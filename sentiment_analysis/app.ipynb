{
 "cells": [
  {
   "cell_type": "code",
   "execution_count": 1,
   "id": "3db7449d",
   "metadata": {},
   "outputs": [],
   "source": [
    "# # Dependencies\n",
    "# from flask import Flask, request, jsonify\n",
    "# import joblib\n",
    "# import traceback\n",
    "# import pandas as pd\n",
    "# import numpy as np\n",
    "\n",
    "# # Your API definition\n",
    "# app = Flask(__name__)\n",
    "\n",
    "# @app.route('/predict', methods=['POST'])\n",
    "# def predict():\n",
    "#     if analys:\n",
    "#         try:\n",
    "#             query = pd.read_csv(\"test.csv\")\n",
    "#             query = query.reindex(columns=model_columns, fill_value=0)\n",
    "\n",
    "#             prediction = list(analys.predict(query))\n",
    "\n",
    "#             return jsonify({'prediction': str(prediction)})\n",
    "\n",
    "#         except:\n",
    "\n",
    "#             return jsonify({'trace': traceback.format_exc()})\n",
    "#     else:\n",
    "#         print ('Train the model first')\n",
    "#         return ('No model here to use')\n",
    "\n",
    "# if __name__ == '__main__':\n",
    "#     try:\n",
    "#         port = int(sys.argv[1]) # This is for a command-line input\n",
    "#     except:\n",
    "#         port = 12345 # If you don't provide any port the port will be set to 12345\n",
    "\n",
    "#     analys = joblib.load(\"model.pkl\") # Load \"model.pkl\"\n",
    "#     print ('Model loaded')\n",
    "#     model_columns = joblib.load(\"model_columns.pkl\") # Load \"model_columns.pkl\"\n",
    "#     print ('Model columns loaded')\n",
    "\n",
    "#     app.run(port=port, debug=True)"
   ]
  },
  {
   "cell_type": "code",
   "execution_count": 1,
   "id": "7fb7d499",
   "metadata": {},
   "outputs": [],
   "source": [
    "from flask import Flask, request, render_template\n",
    "from sklearn.feature_extraction.text import TfidfVectorizer\n",
    "from sklearn.metrics.pairwise import cosine_similarity\n",
    "from vaderSentiment.vaderSentiment import SentimentIntensityAnalyzer\n",
    "import nltk\n",
    "from string import punctuation\n",
    "import re\n",
    "from nltk.corpus import stopwords\n",
    "import pandas as pd\n",
    "\n",
    "#nltk.download('stopwords')\n",
    "\n",
    "set(stopwords.words('english'))\n",
    "\n",
    "app = Flask(__name__)\n",
    "\n",
    "@app.route('/')\n",
    "def my_form():\n",
    "    return render_template('form.html')"
   ]
  },
  {
   "cell_type": "code",
   "execution_count": 2,
   "id": "7df77c0e",
   "metadata": {},
   "outputs": [
    {
     "data": {
      "text/plain": [
       "0        #studiolife #aislife #requires #passion #dedic...\n",
       "1         @user #white #supremacists want everyone to s...\n",
       "2        safe ways to heal your #acne!!    #altwaystohe...\n",
       "3        is the hp and the cursed child book up for res...\n",
       "4          3rd #bihday to my amazing, hilarious #nephew...\n",
       "                               ...                        \n",
       "17192    thought factory: left-right polarisation! #tru...\n",
       "17193    feeling like a mermaid ð #hairflip #neverre...\n",
       "17194    #hillary #campaigned today in #ohio((omg)) &am...\n",
       "17195    happy, at work conference: right mindset leads...\n",
       "17196    my   song \"so glad\" free download!  #shoegaze ...\n",
       "Name: tweet, Length: 17197, dtype: object"
      ]
     },
     "execution_count": 2,
     "metadata": {},
     "output_type": "execute_result"
    }
   ],
   "source": [
    "test_data = pd.read_csv('test.csv')\n",
    "test_data = test_data.iloc[:,1]\n",
    "test_data"
   ]
  },
  {
   "cell_type": "code",
   "execution_count": 3,
   "id": "70565d23",
   "metadata": {},
   "outputs": [],
   "source": [
    "# @app.route('/', methods=['POST'])\n",
    "# def my_form_post():\n",
    "    \n",
    "#     stop_words = stopwords.words('english')\n",
    "    \n",
    "#     #convert to lowercase\n",
    "#     text1 = request.form['text1'].lower()\n",
    "    \n",
    "#     text_final = ''.join(c for c in text1 if not c.isdigit())\n",
    "    \n",
    "#     #remove punctuations\n",
    "#     #text3 = ''.join(c for c in text2 if c not in punctuation)\n",
    "        \n",
    "#     #remove stopwords    \n",
    "#     processed_doc1 = ' '.join([word for word in text_final.split() if word not in stop_words])\n",
    "\n",
    "#     sa = SentimentIntensityAnalyzer()\n",
    "#     dd = sa.polarity_scores(text=processed_doc1)\n",
    "#     compound = round((1 + dd['compound'])/2, 2)\n",
    "\n",
    "#     return render_template('form.html', final=compound, text1=text_final,text2=dd['pos'],text5=dd['neg'],text4=compound,text3=dd['neu'])\n",
    "    \n",
    "#    # pass\n",
    "# if __name__ == \"__main__\":\n",
    "#     app.run(debug=True, host=\"127.0.0.1\", port=5002, threaded=True, use_reloader=False)"
   ]
  },
  {
   "cell_type": "code",
   "execution_count": null,
   "id": "e705abce",
   "metadata": {},
   "outputs": [
    {
     "name": "stdout",
     "output_type": "stream",
     "text": [
      " * Serving Flask app \"__main__\" (lazy loading)\n",
      " * Environment: production\n",
      "   WARNING: This is a development server. Do not use it in a production deployment.\n",
      "   Use a production WSGI server instead.\n",
      " * Debug mode: on\n"
     ]
    },
    {
     "name": "stderr",
     "output_type": "stream",
     "text": [
      " * Running on http://127.0.0.1:5002/ (Press CTRL+C to quit)\n",
      "127.0.0.1 - - [27/Jun/2022 12:06:32] \"\u001b[37mGET / HTTP/1.1\u001b[0m\" 200 -\n",
      "127.0.0.1 - - [27/Jun/2022 12:06:33] \"\u001b[33mGET /static/style.css HTTP/1.1\u001b[0m\" 404 -\n"
     ]
    }
   ],
   "source": [
    "@app.route('/', methods=['POST'])\n",
    "def my_form_post():\n",
    "    \n",
    "    stop_words = stopwords.words('english')\n",
    "    \n",
    "    #convert to lowercase\n",
    "    text1 = request.form['text1'].lower()\n",
    "    \n",
    "    text_final = ''.join(c for c in text1 if not c.isdigit())\n",
    "    \n",
    "    #remove punctuations\n",
    "    #text3 = ''.join(c for c in text2 if c not in punctuation)\n",
    "        \n",
    "    #remove stopwords    \n",
    "    processed_doc1 = ' '.join([word for word in text_final.split() if word not in stop_words])\n",
    "\n",
    "    sa = SentimentIntensityAnalyzer()\n",
    "    dd = sa.polarity_scores(text=processed_doc1)\n",
    "    compound = round((1 + dd['compound'])/2, 2)\n",
    "\n",
    "    return render_template('form.html', final=compound, text1=text_final,text2=dd['pos'],text5=dd['neg'],text4=compound,text3=dd['neu'])\n",
    "    #open file\n",
    "    file = open(\"model.pkl\",\"rb\")\n",
    "    \n",
    "    #load trained model\n",
    "    trained_model = joblib.load(file)\n",
    "    \n",
    "    #predict\n",
    "    prediction = trained_model.predict(test_data)\n",
    "    \n",
    "    return prediction\n",
    "    \n",
    "    pass\n",
    "if __name__ == \"__main__\":\n",
    "    app.run(debug=True, host=\"127.0.0.1\", port=5002, threaded=True,use_reloader=False)"
   ]
  },
  {
   "cell_type": "code",
   "execution_count": null,
   "id": "f3f7f04f",
   "metadata": {},
   "outputs": [],
   "source": []
  }
 ],
 "metadata": {
  "kernelspec": {
   "display_name": "Python 3",
   "language": "python",
   "name": "python3"
  },
  "language_info": {
   "codemirror_mode": {
    "name": "ipython",
    "version": 3
   },
   "file_extension": ".py",
   "mimetype": "text/x-python",
   "name": "python",
   "nbconvert_exporter": "python",
   "pygments_lexer": "ipython3",
   "version": "3.8.8"
  }
 },
 "nbformat": 4,
 "nbformat_minor": 5
}
